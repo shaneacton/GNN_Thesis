{
 "cells": [
  {
   "cell_type": "markdown",
   "metadata": {},
   "source": [
    "## format and example\n",
    "* involves integrating multiple pieces of connected evidence to solve a query eg:\n",
    " * info_1: \"Cape Town is in South Africa.\" \n",
    " * info_2: \"Table mountain is in Cape Town.\" \n",
    " * query_1: \"which country is Table Mountain in?\"\n",
    "\n",
    "* A system capable of solving questions such as these would have to have the ability to perform basic reasoning operations.\n",
    "\n",
    "## propagation steps\n",
    "* previous work showed that 3-4 information correlation/propagation steps is optimal, however this is likely due to limitations in their gnn architectures.\n",
    " * the number of propagation steps determines the reach of the set of nodes any given node can speak to. Given 1 propagation step, each node may only speak to its direct neighbour. Given 2, they may speak to their neighbours neighbours aswell. Given N steps, each node may speak to nodes up to n connections away.\n",
    " * in a densely connected graph, there may be few node pairs which are further apart than 4 hops, meaning 4 propagation steps may be sufficient to allow all nodes to talk to eachother, and all node relations to be encoded.\n",
    "\n",
    "## info filters\n",
    "* Gating and attention methods used act as information filters which use the query to decide which information is important to propagate. This allows the noise of the many pieces of irrelavant of information to be ignored to some degree.\n",
    " * Knowing which pieces of info are important to a query is easy for some pieces of information eg: info_2. in this case the table mountain entity is mentioned in the query, so it is very likely to be an important piece of info.\n",
    " * Other pieces present more of a challenge eg: info_1. In this case it is more difficult to realise that the relationship between Cape Town and South Africa is important until the system knows that Cape Town contains Table Mountain, an entity of interest.\n",
    " * While a nuanced system may recognise that South Africa is a country, and country is a question word, and thus assign importance to info_1, there are many cases where this sort of link would be difficult to make\n",
    " \n",
    "## intermediate questions\n",
    "* Intermediate questions are auxillary questions which help answer the main query, and are logically constructed as new information is encountered.\n",
    " * Encountering info_2, a reasonable intermediate question would be \"which country is Cape Town in?\"\n",
    " * Only Encountering info_1, a very sophisticated system may construct the intermediate question: \"is Table Mountain in Cape Town\" - however this is not simple, and since it may not be known that info_1 is important, this question may not be considered important even if formulated.\n",
    " * This seems to indicate that the order of integration appears to matter as it is diffucult for info filters to recognise the importance of info_1 until info_2 has been encountered, and the intermediate question \"which country is Cape Town in?\" is encoded. \n",
    " \n",
    "## hops and propagation steps\n",
    "* There may be cases where there are many more than 2 relevant pieces of information which need to be integrated to answer a given query, or in other words - questions which require more than 1 hop. In these cases the order of integration may become especially important. \n",
    " * given an N-hop question, there may be at least N intermediate questions which could be formed and N+1 peices of information to be incorporated. \n",
    " * In a giant pool of pieces of information, a system may need the intermediate question formed during the 1st hop to recognise the piece of information which is needed for the second hop, and inductively need the nth intermediate question to properly incorporate the (n+1)th piece of info. \n",
    " * this demonstrates that the connectedness of the graph is likely not the only factor which matters in deciding the ideal number of propagation steps. The number of pieces of information required for integration, as well as the dependencies between these pieces of info, and also the degree of the connections between these pieces of info all seem to determine the minimum number of neccesary prop steps to make. \n",
    "\n",
    " \n",
    "\n",
    " \n"
   ]
  },
  {
   "cell_type": "code",
   "execution_count": null,
   "metadata": {},
   "outputs": [],
   "source": []
  }
 ],
 "metadata": {
  "kernelspec": {
   "display_name": "Python 3",
   "language": "python",
   "name": "python3"
  },
  "language_info": {
   "codemirror_mode": {
    "name": "ipython",
    "version": 3
   },
   "file_extension": ".py",
   "mimetype": "text/x-python",
   "name": "python",
   "nbconvert_exporter": "python",
   "pygments_lexer": "ipython3",
   "version": "3.6.8"
  }
 },
 "nbformat": 4,
 "nbformat_minor": 4
}
