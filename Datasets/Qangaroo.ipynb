{
 "cells": [
  {
   "cell_type": "code",
   "execution_count": 1,
   "metadata": {},
   "outputs": [
    {
     "data": {
      "text/html": [
       "<style>.container { width:80% !important; }</style>"
      ],
      "text/plain": [
       "<IPython.core.display.HTML object>"
      ]
     },
     "metadata": {},
     "output_type": "display_data"
    }
   ],
   "source": [
    "import os\n",
    "os.chdir(\"..\")\n",
    "\n",
    "from IPython.core.display import display, HTML\n",
    "display(HTML(\"<style>.container { width:80% !important; }</style>\"))"
   ]
  },
  {
   "cell_type": "markdown",
   "metadata": {},
   "source": [
    "# Papers\n",
    "* Multi-hop Reading Comprehension across Multiple Documents by Reasoning over Heterogeneous Graphs\n",
    "* "
   ]
  },
  {
   "cell_type": "code",
   "execution_count": 3,
   "metadata": {},
   "outputs": [
    {
     "name": "stdout",
     "output_type": "stream",
     "text": [
      "context:\n",
      "The North German Confederation was a confederation of 22 previously independent states of northern Germany, with nearly 30 million inhabitants. It was\n",
      "the first modern German nation state and the basis for the later German Empire (18711918), when several south German states such as Bavaria joined.\n",
      "\n",
      "Weimar Republic is an unofficial, historical designation for the German state between 1919 and 1933. The name derives from the city of Weimar, where\n",
      "its constitutional assembly first took place. The official name of the state was still \"Deutsches Reich\"; it had remained unchanged since 1871. In\n",
      "English the country was usually known simply as Germany. A national assembly was convened in Weimar, where a new constitution for the \"Deutsches\n",
      "Reich\" was written, and adopted on 11 August 1919. In its fourteen years, the Weimar Republic faced numerous problems, including hyperinflation,\n",
      "political extremism (with paramilitaries  both left- and right-wing); and contentious relationships with the victors of the First World War. The\n",
      "people of Germany blamed the Weimar Republic rather than their wartime leaders for the country's defeat and for the humiliating terms of the Treaty of\n",
      "Versailles. However, the Weimar Republic government successfully reformed the currency, unified tax policies, and organized the railway system. Weimar\n",
      "Germany eliminated most of the requirements of the Treaty of Versailles; it never completely met its disarmament requirements, and eventually paid\n",
      "only a small portion of the war reparations (by twice restructuring its debt through the Dawes Plan and the Young Plan). Under the Locarno Treaties,\n",
      "Germany accepted the western borders of the republic, but continued to dispute the Eastern border.\n",
      "\n",
      "The dreadnought was the predominant type of battleship in the early 20th century. The first of its kind, the Royal Navy's , made such a strong\n",
      "impression on people's minds when launched in 1906 that similar battleships built subsequently were referred to generically as \"dreadnoughts\", and\n",
      "earlier battleships became known as \"pre-dreadnoughts\". \"Dreadnought\"s design had two revolutionary features: an \"all-big-gun\" armament scheme, with\n",
      "more heavy-calibre guns than previous ships, and steam turbine propulsion. As dreadnoughts became a symbol of national power, the arrival of these new\n",
      "warships was a crucial catalyst in the intensifying naval arms race between the United Kingdom and Germany. With the launch of a single ship,\n",
      "\"Dreadnought\", the scales of naval power were reset overnight. As a result, dreadnought races sprang up around the world, including in South America,\n",
      "during the lead up to World War I. Successive designs increased rapidly in size and made use of improvements in armament, armour, and propulsion\n",
      "throughout the dreadnought era. Within five years, new battleships had outclassed \"Dreadnought\". These more powerful vessels were known as \"super-\n",
      "dreadnoughts.\" Most of the original dreadnoughts were scrapped after the end of World War I under the terms of the Washington Naval Treaty, but many\n",
      "of the newer super-dreadnoughts continued to be used throughout World War II. The only surviving dreadnought is , located near the San Jacinto\n",
      "Battleground State Historic Site.\n",
      "\n",
      "SMS Braunschweig was the first of five pre-dreadnought battleships of the Braunschweig class in the German Kaiserliche Marine ( Imperial Navy ) . She\n",
      "was laid down in 1901 and commissioned in October 1904 , at a cost of 23,983,000 marks . She was named after the then Duchy of Brunswick ( German :\n",
      "Braunschweig ) . Her sister ships were Elsass , Hessen , Preussen , and Lothringen . The ship served in the II Squadron of the German fleet after\n",
      "commissioning , though by the outbreak of World War I she had been moved to the IV Squadron . Braunschweig saw action in the Baltic Sea against the\n",
      "Russian Navy . In August 1915 , the ship participated in the Battle of the Gulf of Riga , during which she engaged the Russian battleship Slava . In\n",
      "1916 , the ship was placed in reserve owing to crew shortages . She spent the remainder of World War I as a training ship , and after 1917 , as a\n",
      "barracks ship for U-boat crews . Under the terms of the Treaty of Versailles , she was retained after the end of the war and modernized in 1921 -- 22\n",
      ". Braunschweig served in the reformed Reichsmarine as a coastal defense ship until 1926 , when she was again placed in reserve . She was stricken in\n",
      "1931 and subsequently broken up for scrap .\n",
      "\n",
      "World War I (WWI or WW1), also known as the First World War, or the Great War, was a global war originating in Europe that lasted from 28 July 1914 to\n",
      "11 November 1918. More than 70 million military personnel, including 60 million Europeans, were mobilised in one of the largest wars in history. Over\n",
      "nine million combatants and seven million civilians died as a result of the war (including the victims of a number of genocides), a casualty rate\n",
      "exacerbated by the belligerents' technological and industrial sophistication, and the tactical stalemate caused by gruelling trench warfare. It was\n",
      "one of the deadliest conflicts in history, and paved the way for major political changes, including revolutions in many of the nations involved.\n",
      "\n",
      "The Free State of Brunswick was a state of the German Reich in the time of the Weimar Republic. It was formed after the abolition of the Duchy of\n",
      "Brunswick in the course of the German Revolution of 191819. Its capital was Braunschweig (Brunswick).\n",
      "\n",
      "The Congress of Vienna (German: \"Wiener Kongress\") was a conference of ambassadors of European states chaired by Austrian statesman Klemens von\n",
      "Metternich, and held in Vienna from November 1814 to June 1815, though the delegates had arrived and were already negotiating by late September 1814.\n",
      "The objective of the Congress was to provide a long-term peace plan for Europe by settling critical issues arising from the French Revolutionary Wars\n",
      "and the Napoleonic Wars. The goal was not simply to restore old boundaries but to resize the main powers so they could balance each other off and\n",
      "remain at peace. The leaders were conservatives with little use for republicanism or revolution, both of which threatened to upset the status quo in\n",
      "Europe. France lost all its recent conquests, while Prussia, Austria and Russia made major territorial gains. Prussia added smaller German states in\n",
      "the west, Swedish Pomerania and 60% of the Kingdom of Saxony; Austria gained Venice and much of northern Italy. Russia gained parts of Poland. The new\n",
      "Kingdom of the Netherlands had been created just months before, and included formerly Austrian territory that in 1830 became Belgium. The immediate\n",
      "background was Napoleonic France's defeat and surrender in May 1814, which brought an end to twenty-five years of nearly continuous war. Negotiations\n",
      "continued despite the outbreak of fighting triggered by Napoleon's dramatic return from exile and resumption of power in France during the Hundred\n",
      "Days of MarchJuly 1815. The Congress's \"Final Act\" was signed nine days before his final defeat at Waterloo on 18 June 1815.\n",
      "\n",
      "The German Confederation was an association of 39 German states in Central Europe, created by the Congress of Vienna in 1815 to coordinate the\n",
      "economies of separate German-speaking countries and to replace the former Holy Roman Empire. Most historians have judged the Confederation to have\n",
      "been weak and ineffective, as well as an obstacle to the creation of a German nation-state. It collapsed due to the rivalry between Prussia and\n",
      "Austria, warfare, the 1848 revolution, and the inability of the multiple members to compromise.\n",
      "\n",
      "The Royal Navy (RN) is the United Kingdom's naval warfare force. Although warships were used by the English kings from the early medieval period, the\n",
      "first major maritime engagements were fought in the Hundred Years War against the kingdom of France. The modern Royal Navy traces its origins to the\n",
      "early 16th century; the oldest of the UK's armed services, it is known as the Senior Service.\n",
      "\n",
      "Wolfenbüttel is a town in Lower Saxony, Germany, the administrative capital of Wolfenbüttel District. It is best known as the location of the\n",
      "internationally renowned Herzog August Library and for having the largest concentration of timber-framed buildings in Germany. It is an episcopal see\n",
      "of the Evangelical Lutheran Church in Brunswick. It is also home to the Jägermeister distillery and houses a campus of the Ostfalia University of\n",
      "Applied Sciences.\n",
      "\n",
      "The German Empire (officially ') was the historical German nation state that existed from the unification of Germany in 1871 to the abdication of\n",
      "Kaiser Wilhelm II in November 1918, when Germany became a federal republic (the Weimar Republic).\n",
      "\n",
      "Braunschweig (Low German: \"Brunswiek\" ), also called Brunswick in English, is a city of 252,768 people (as of 31 December 2015), in the state of Lower\n",
      "Saxony, Germany. It is located north of the Harz mountains at the furthest navigable point of the Oker river, which connects to the North Sea via the\n",
      "rivers Aller and Weser. A powerful and influential centre of commerce in medieval Germany, Braunschweig was a member of the Hanseatic League from the\n",
      "13th until the 17th century, and the capital of the state of Brunswick until its disestablishment in 1946. Today, Braunschweig is the second largest\n",
      "city in Lower Saxony and a major centre of scientific research and development.\n",
      "\n",
      "The Washington Naval Treaty, also known as the Five-Power Treaty, and including the \"Four-Power Treaty\" and the \"Nine-power Treaty\" was a treaty among\n",
      "the major nations that had won World War I, which agreed to prevent an arms race by limiting naval construction. It was negotiated at the Washington\n",
      "Naval Conference, held in Washington, D.C., from November 1921 to February 1922, and it was signed by the governments of the United Kingdom, the\n",
      "United States, Japan, France, and Italy. It limited the construction of battleships, battlecruisers and aircraft carriers by the signatories. The\n",
      "numbers of other categories of warships, including cruisers, destroyers and submarines, were not limited by the treaty, but those ships were limited\n",
      "to 10,000 tons displacement.\n",
      "\n",
      "The Duchy of Brunswick was a historical German state. Its capital was the city of Brunswick (\"Braunschweig\"). It was established as the successor\n",
      "state of the Principality of Brunswick-Wolfenbüttel by the Congress of Vienna in 1815. In the course of the 19th-century history of Germany, the duchy\n",
      "was part of the German Confederation, the North German Confederation and from 1871 the German Empire. It was disestablished after the end of World War\n",
      "I, its territory incorporated into the Weimar Republic as the Free State of Brunswick.\n",
      "\n",
      "World War II (often abbreviated to WWII or WW2), also known as the Second World War, was a global war that lasted from 1939 to 1945, although related\n",
      "conflicts began earlier. It involved the vast majority of the world's nationsincluding all of the great powerseventually forming two opposing military\n",
      "alliances: the Allies and the Axis. It was the most widespread war in history, and directly involved more than 100 million people from over 30\n",
      "countries. In a state of \"total war\", the major participants threw their entire economic, industrial, and scientific capabilities behind the war\n",
      "effort, erasing the distinction between civilian and military resources. Marked by mass deaths of civilians, including the Holocaust (in which\n",
      "approximately 11 million people were killed) and the strategic bombing of industrial and population centres (in which approximately one million were\n",
      "killed, and which included the atomic bombings of Hiroshima and Nagasaki), it resulted in an estimated 50 million to 85 million fatalities. These made\n",
      "World War II the deadliest conflict in human history.\n",
      "\n",
      "question:\n",
      "\n",
      "Q: country sms braunschweig\n",
      "candidates:\n",
      " * duchy of brunswick\n",
      " * russia\n",
      " * saxony\n",
      " * kingdom of saxony\n",
      " * japan\n",
      " * world\n",
      " * austria\n",
      " * italy\n",
      " * german empire\n",
      " * holy roman empire\n",
      " * roman empire\n",
      " * kingdom of france\n",
      " * northern italy\n",
      " * united kingdom\n",
      " * france\n",
      " * german confederation\n",
      " * weimar republic\n",
      " * germany\n",
      "A: german empire\n",
      "\n"
     ]
    }
   ],
   "source": [
    "from Datasets.Readers.qangaroo_reader import QUangarooDatasetReader\n",
    "\n",
    "\n",
    "qa_reader = QUangarooDatasetReader()\n",
    "samples = qa_reader.get_dev_set()\n",
    "for sample in samples:\n",
    "    print(sample)\n",
    "    break"
   ]
  },
  {
   "cell_type": "code",
   "execution_count": null,
   "metadata": {},
   "outputs": [],
   "source": []
  }
 ],
 "metadata": {
  "kernelspec": {
   "display_name": "Python 3",
   "language": "python",
   "name": "python3"
  },
  "language_info": {
   "codemirror_mode": {
    "name": "ipython",
    "version": 3
   },
   "file_extension": ".py",
   "mimetype": "text/x-python",
   "name": "python",
   "nbconvert_exporter": "python",
   "pygments_lexer": "ipython3",
   "version": "3.6.8"
  }
 },
 "nbformat": 4,
 "nbformat_minor": 4
}
