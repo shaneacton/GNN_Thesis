{
 "cells": [
  {
   "cell_type": "markdown",
   "metadata": {},
   "source": [
    "# Edge types\n",
    "\n",
    "* Comention - same entity, same name\n",
    "* Coreference - same entity by another name/ reference eg {it's, the man}\n",
    "* Adjacent/Window - different entities sequentially adjacent to eachother, this may be subject to a maximum window distance between entities. \n",
    "* Cooccurence/Document - same or different entities contained in the same passage"
   ]
  }
 ],
 "metadata": {
  "kernelspec": {
   "display_name": "Python 3",
   "language": "python",
   "name": "python3"
  },
  "language_info": {
   "codemirror_mode": {
    "name": "ipython",
    "version": 3
   },
   "file_extension": ".py",
   "mimetype": "text/x-python",
   "name": "python",
   "nbconvert_exporter": "python",
   "pygments_lexer": "ipython3",
   "version": "3.6.8"
  }
 },
 "nbformat": 4,
 "nbformat_minor": 4
}
